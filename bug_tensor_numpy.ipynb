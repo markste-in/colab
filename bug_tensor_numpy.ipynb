{
  "nbformat": 4,
  "nbformat_minor": 0,
  "metadata": {
    "colab": {
      "name": "bug_tensor_numpy",
      "version": "0.3.2",
      "provenance": [],
      "collapsed_sections": [],
      "include_colab_link": true
    },
    "kernelspec": {
      "name": "python3",
      "display_name": "Python 3"
    }
  },
  "cells": [
    {
      "cell_type": "markdown",
      "metadata": {
        "id": "view-in-github",
        "colab_type": "text"
      },
      "source": [
        "<a href=\"https://colab.research.google.com/github/markste-in/colab/blob/master/bug_tensor_numpy.ipynb\" target=\"_parent\"><img src=\"https://colab.research.google.com/assets/colab-badge.svg\" alt=\"Open In Colab\"/></a>"
      ]
    },
    {
      "metadata": {
        "id": "3nZETJhlMEaQ",
        "colab_type": "text"
      },
      "cell_type": "markdown",
      "source": [
        "## **Decreasing Performance  **   \n",
        "Issue w. Tensorflow when converting a list of tensors to a numpy array  with np.array(TENSOR)   \n",
        "Same issue when calling np.shape(TENSOR)  \n",
        "Affected Version: Tensorflow 2.0.0-dev20190405"
      ]
    },
    {
      "metadata": {
        "id": "yQ0Fy5HVBW3x",
        "colab_type": "code",
        "colab": {}
      },
      "cell_type": "code",
      "source": [
        "import tensorflow as tf\n",
        "import numpy as np\n",
        "from timeit import default_timer as Timer\n",
        "from matplotlib.pyplot import plot as plt\n",
        "\n",
        "def buggy():\n",
        "  print('Tensorflow', tf.__version__)\n",
        "  print('Numpy',np.__version__)\n",
        "  batch = []\n",
        "  time = []\n",
        "\n",
        "  for i in range(10):\n",
        "    start = Timer()\n",
        "    \n",
        "    \n",
        "    batch.append(\n",
        "        tf.convert_to_tensor(\n",
        "            np.random.rand(50,50)\n",
        "        )*i\n",
        "    )\n",
        "    #Issue when converting tensor to numpy array (same issue when doing stuff like np.shape(TENSOR))\n",
        "    np.array(batch)\n",
        "    \n",
        "    end = Timer()\n",
        "    time.append(end-start)\n",
        "  return time"
      ],
      "execution_count": 0,
      "outputs": []
    },
    {
      "metadata": {
        "id": "09RY-SefCLBL",
        "colab_type": "code",
        "outputId": "e4c19677-cd48-493b-b612-b54fe11f97c7",
        "colab": {
          "base_uri": "https://localhost:8080/",
          "height": 398
        }
      },
      "cell_type": "code",
      "source": [
        "#No issue here\n",
        "plt(buggy())"
      ],
      "execution_count": 0,
      "outputs": [
        {
          "output_type": "stream",
          "text": [
            "Tensorflow 1.13.1\n",
            "Numpy 1.14.6\n"
          ],
          "name": "stdout"
        },
        {
          "output_type": "execute_result",
          "data": {
            "text/plain": [
              "[<matplotlib.lines.Line2D at 0x7f7e71c8d0b8>]"
            ]
          },
          "metadata": {
            "tags": []
          },
          "execution_count": 2
        },
        {
          "output_type": "display_data",
          "data": {
            "image/png": "[encoded data removed]",
            "text/plain": [
              "<Figure size 576x396 with 1 Axes>"
            ]
          },
          "metadata": {
            "tags": []
          }
        }
      ]
    },
    {
      "metadata": {
        "id": "FxMHnVntLD5Q",
        "colab_type": "code",
        "colab": {}
      },
      "cell_type": "code",
      "source": [
        "!pip3 install tf-nightly-2.0-preview"
      ],
      "execution_count": 0,
      "outputs": []
    },
    {
      "metadata": {
        "id": "Yc55kAFwLaV7",
        "colab_type": "code",
        "outputId": "b5d6ced8-0a78-4b5f-dcf4-806c812b5ef6",
        "colab": {
          "base_uri": "https://localhost:8080/",
          "height": 398
        }
      },
      "cell_type": "code",
      "source": [
        "#slower and slower ...\n",
        "plt(buggy())"
      ],
      "execution_count": 0,
      "outputs": [
        {
          "output_type": "stream",
          "text": [
            "Tensorflow 2.0.0-dev20190405\n",
            "Numpy 1.14.6\n"
          ],
          "name": "stdout"
        },
        {
          "output_type": "execute_result",
          "data": {
            "text/plain": [
              "[<matplotlib.lines.Line2D at 0x7f3da3a41748>]"
            ]
          },
          "metadata": {
            "tags": []
          },
          "execution_count": 2
        },
        {
          "output_type": "display_data",
          "data": {
            "image/png": "[encoded data removed]",
            "text/plain": [
              "<Figure size 576x396 with 1 Axes>"
            ]
          },
          "metadata": {
            "tags": []
          }
        }
      ]
    },
    {
      "metadata": {
        "id": "tay5FWMSLlQo",
        "colab_type": "code",
        "colab": {}
      },
      "cell_type": "code",
      "source": [
        ""
      ],
      "execution_count": 0,
      "outputs": []
    }
  ]
}